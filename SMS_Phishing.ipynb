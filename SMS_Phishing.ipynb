{
  "nbformat": 4,
  "nbformat_minor": 0,
  "metadata": {
    "colab": {
      "name": "SMS Phishing.ipynb",
      "provenance": [],
      "collapsed_sections": [],
      "authorship_tag": "ABX9TyMONihWoZujIeXmTJhGz2LC",
      "include_colab_link": true
    },
    "kernelspec": {
      "name": "python3",
      "display_name": "Python 3"
    },
    "language_info": {
      "name": "python"
    },
    "accelerator": "GPU"
  },
  "cells": [
    {
      "cell_type": "markdown",
      "metadata": {
        "id": "view-in-github",
        "colab_type": "text"
      },
      "source": [
        "<a href=\"https://colab.research.google.com/github/RUBAIATH-E-ULFATH/Smishing-Detection-with-NLP-and-ML-Algorithms/blob/main/SMS_Phishing.ipynb\" target=\"_parent\"><img src=\"https://colab.research.google.com/assets/colab-badge.svg\" alt=\"Open In Colab\"/></a>"
      ]
    },
    {
      "cell_type": "markdown",
      "metadata": {
        "id": "M1IN5wzvUTlp"
      },
      "source": [
        "##Load Dataset & Import Necessary Modules"
      ]
    },
    {
      "cell_type": "markdown",
      "metadata": {
        "id": "lKiCbvjAUehG"
      },
      "source": [
        "###Load Dataset\n"
      ]
    },
    {
      "cell_type": "code",
      "metadata": {
        "colab": {
          "base_uri": "https://localhost:8080/"
        },
        "id": "CBspwQFKU4mQ",
        "outputId": "7cf05f2a-c633-4fb8-e025-3a0f0544920a"
      },
      "source": [
        "from google.colab import drive\n",
        "drive.mount('/content/drive',force_remount=True)\n"
      ],
      "execution_count": null,
      "outputs": [
        {
          "output_type": "stream",
          "text": [
            "Mounted at /content/drive\n"
          ],
          "name": "stdout"
        }
      ]
    },
    {
      "cell_type": "code",
      "metadata": {
        "id": "X-XiFEfSWAmo"
      },
      "source": [
        "import warnings\n",
        "warnings.filterwarnings('ignore')\n",
        "import os\n",
        "import random\n",
        "import numpy as np\n",
        "import pandas as pd\n",
        "from sklearn.model_selection import train_test_split\n",
        "import sys\n",
        "import nltk\n",
        "import matplotlib.pyplot as plt\n",
        "import seaborn as sns\n",
        "from wordcloud import WordCloud"
      ],
      "execution_count": null,
      "outputs": []
    },
    {
      "cell_type": "code",
      "metadata": {
        "colab": {
          "base_uri": "https://localhost:8080/"
        },
        "id": "MRVLflpzHco5",
        "outputId": "535f15c2-b6e5-4606-90be-f71ffebee616"
      },
      "source": [
        "nltk.download('stopwords')\n",
        "nltk.download('wordnet')"
      ],
      "execution_count": null,
      "outputs": [
        {
          "output_type": "stream",
          "text": [
            "[nltk_data] Downloading package stopwords to /root/nltk_data...\n",
            "[nltk_data]   Unzipping corpora/stopwords.zip.\n",
            "[nltk_data] Downloading package wordnet to /root/nltk_data...\n",
            "[nltk_data]   Unzipping corpora/wordnet.zip.\n"
          ],
          "name": "stdout"
        },
        {
          "output_type": "execute_result",
          "data": {
            "text/plain": [
              "True"
            ]
          },
          "metadata": {
            "tags": []
          },
          "execution_count": 7
        }
      ]
    },
    {
      "cell_type": "code",
      "metadata": {
        "id": "Q3rEYTHiesGo"
      },
      "source": [
        "df=pd.read_csv('/content/drive/MyDrive/spam.csv')"
      ],
      "execution_count": null,
      "outputs": []
    },
    {
      "cell_type": "code",
      "metadata": {
        "colab": {
          "base_uri": "https://localhost:8080/",
          "height": 204
        },
        "id": "pQB2FsjZphUn",
        "outputId": "1e653c2b-5583-43c9-845a-383df0deb14a"
      },
      "source": [
        "df.head(5)"
      ],
      "execution_count": null,
      "outputs": [
        {
          "output_type": "execute_result",
          "data": {
            "text/html": [
              "<div>\n",
              "<style scoped>\n",
              "    .dataframe tbody tr th:only-of-type {\n",
              "        vertical-align: middle;\n",
              "    }\n",
              "\n",
              "    .dataframe tbody tr th {\n",
              "        vertical-align: top;\n",
              "    }\n",
              "\n",
              "    .dataframe thead th {\n",
              "        text-align: right;\n",
              "    }\n",
              "</style>\n",
              "<table border=\"1\" class=\"dataframe\">\n",
              "  <thead>\n",
              "    <tr style=\"text-align: right;\">\n",
              "      <th></th>\n",
              "      <th>v1</th>\n",
              "      <th>v2</th>\n",
              "      <th>Unnamed: 2</th>\n",
              "      <th>Unnamed: 3</th>\n",
              "      <th>Unnamed: 4</th>\n",
              "    </tr>\n",
              "  </thead>\n",
              "  <tbody>\n",
              "    <tr>\n",
              "      <th>0</th>\n",
              "      <td>ham</td>\n",
              "      <td>Go until jurong point, crazy.. Available only ...</td>\n",
              "      <td>NaN</td>\n",
              "      <td>NaN</td>\n",
              "      <td>NaN</td>\n",
              "    </tr>\n",
              "    <tr>\n",
              "      <th>1</th>\n",
              "      <td>ham</td>\n",
              "      <td>Ok lar... Joking wif u oni...</td>\n",
              "      <td>NaN</td>\n",
              "      <td>NaN</td>\n",
              "      <td>NaN</td>\n",
              "    </tr>\n",
              "    <tr>\n",
              "      <th>2</th>\n",
              "      <td>spam</td>\n",
              "      <td>Free entry in 2 a wkly comp to win FA Cup fina...</td>\n",
              "      <td>NaN</td>\n",
              "      <td>NaN</td>\n",
              "      <td>NaN</td>\n",
              "    </tr>\n",
              "    <tr>\n",
              "      <th>3</th>\n",
              "      <td>ham</td>\n",
              "      <td>U dun say so early hor... U c already then say...</td>\n",
              "      <td>NaN</td>\n",
              "      <td>NaN</td>\n",
              "      <td>NaN</td>\n",
              "    </tr>\n",
              "    <tr>\n",
              "      <th>4</th>\n",
              "      <td>ham</td>\n",
              "      <td>Nah I don't think he goes to usf, he lives aro...</td>\n",
              "      <td>NaN</td>\n",
              "      <td>NaN</td>\n",
              "      <td>NaN</td>\n",
              "    </tr>\n",
              "  </tbody>\n",
              "</table>\n",
              "</div>"
            ],
            "text/plain": [
              "     v1  ... Unnamed: 4\n",
              "0   ham  ...        NaN\n",
              "1   ham  ...        NaN\n",
              "2  spam  ...        NaN\n",
              "3   ham  ...        NaN\n",
              "4   ham  ...        NaN\n",
              "\n",
              "[5 rows x 5 columns]"
            ]
          },
          "metadata": {
            "tags": []
          },
          "execution_count": 9
        }
      ]
    },
    {
      "cell_type": "code",
      "metadata": {
        "colab": {
          "base_uri": "https://localhost:8080/"
        },
        "id": "SU4OsKTcpmyz",
        "outputId": "1f566016-47d0-4b60-984b-2d36c80de8b7"
      },
      "source": [
        "df.info()"
      ],
      "execution_count": null,
      "outputs": [
        {
          "output_type": "stream",
          "text": [
            "<class 'pandas.core.frame.DataFrame'>\n",
            "RangeIndex: 5572 entries, 0 to 5571\n",
            "Data columns (total 5 columns):\n",
            " #   Column      Non-Null Count  Dtype \n",
            "---  ------      --------------  ----- \n",
            " 0   v1          5572 non-null   object\n",
            " 1   v2          5572 non-null   object\n",
            " 2   Unnamed: 2  50 non-null     object\n",
            " 3   Unnamed: 3  12 non-null     object\n",
            " 4   Unnamed: 4  6 non-null      object\n",
            "dtypes: object(5)\n",
            "memory usage: 217.8+ KB\n"
          ],
          "name": "stdout"
        }
      ]
    },
    {
      "cell_type": "markdown",
      "metadata": {
        "id": "lWbsMWZ86q2T"
      },
      "source": [
        "###Data preprocessing and cleaning\n"
      ]
    },
    {
      "cell_type": "code",
      "metadata": {
        "id": "9kcuPNCT6wnx"
      },
      "source": [
        "y= df[[\"v1\"]]"
      ],
      "execution_count": null,
      "outputs": []
    },
    {
      "cell_type": "code",
      "metadata": {
        "colab": {
          "base_uri": "https://localhost:8080/",
          "height": 204
        },
        "id": "81oMAS137bGz",
        "outputId": "9d1c41e6-de66-4a49-e438-0798c7d56e0b"
      },
      "source": [
        "y.head()"
      ],
      "execution_count": null,
      "outputs": [
        {
          "output_type": "execute_result",
          "data": {
            "text/html": [
              "<div>\n",
              "<style scoped>\n",
              "    .dataframe tbody tr th:only-of-type {\n",
              "        vertical-align: middle;\n",
              "    }\n",
              "\n",
              "    .dataframe tbody tr th {\n",
              "        vertical-align: top;\n",
              "    }\n",
              "\n",
              "    .dataframe thead th {\n",
              "        text-align: right;\n",
              "    }\n",
              "</style>\n",
              "<table border=\"1\" class=\"dataframe\">\n",
              "  <thead>\n",
              "    <tr style=\"text-align: right;\">\n",
              "      <th></th>\n",
              "      <th>v1</th>\n",
              "    </tr>\n",
              "  </thead>\n",
              "  <tbody>\n",
              "    <tr>\n",
              "      <th>0</th>\n",
              "      <td>ham</td>\n",
              "    </tr>\n",
              "    <tr>\n",
              "      <th>1</th>\n",
              "      <td>ham</td>\n",
              "    </tr>\n",
              "    <tr>\n",
              "      <th>2</th>\n",
              "      <td>spam</td>\n",
              "    </tr>\n",
              "    <tr>\n",
              "      <th>3</th>\n",
              "      <td>ham</td>\n",
              "    </tr>\n",
              "    <tr>\n",
              "      <th>4</th>\n",
              "      <td>ham</td>\n",
              "    </tr>\n",
              "  </tbody>\n",
              "</table>\n",
              "</div>"
            ],
            "text/plain": [
              "     v1\n",
              "0   ham\n",
              "1   ham\n",
              "2  spam\n",
              "3   ham\n",
              "4   ham"
            ]
          },
          "metadata": {
            "tags": []
          },
          "execution_count": 12
        }
      ]
    },
    {
      "cell_type": "code",
      "metadata": {
        "id": "Y1uyUUrM7wz_"
      },
      "source": [
        "X=df[['v2']]"
      ],
      "execution_count": null,
      "outputs": []
    },
    {
      "cell_type": "code",
      "metadata": {
        "colab": {
          "base_uri": "https://localhost:8080/",
          "height": 204
        },
        "id": "uDCRA-P_9eCl",
        "outputId": "18966393-aa79-4d29-9633-cea8e06d0ad4"
      },
      "source": [
        "X.head()"
      ],
      "execution_count": null,
      "outputs": [
        {
          "output_type": "execute_result",
          "data": {
            "text/html": [
              "<div>\n",
              "<style scoped>\n",
              "    .dataframe tbody tr th:only-of-type {\n",
              "        vertical-align: middle;\n",
              "    }\n",
              "\n",
              "    .dataframe tbody tr th {\n",
              "        vertical-align: top;\n",
              "    }\n",
              "\n",
              "    .dataframe thead th {\n",
              "        text-align: right;\n",
              "    }\n",
              "</style>\n",
              "<table border=\"1\" class=\"dataframe\">\n",
              "  <thead>\n",
              "    <tr style=\"text-align: right;\">\n",
              "      <th></th>\n",
              "      <th>v2</th>\n",
              "    </tr>\n",
              "  </thead>\n",
              "  <tbody>\n",
              "    <tr>\n",
              "      <th>0</th>\n",
              "      <td>Go until jurong point, crazy.. Available only ...</td>\n",
              "    </tr>\n",
              "    <tr>\n",
              "      <th>1</th>\n",
              "      <td>Ok lar... Joking wif u oni...</td>\n",
              "    </tr>\n",
              "    <tr>\n",
              "      <th>2</th>\n",
              "      <td>Free entry in 2 a wkly comp to win FA Cup fina...</td>\n",
              "    </tr>\n",
              "    <tr>\n",
              "      <th>3</th>\n",
              "      <td>U dun say so early hor... U c already then say...</td>\n",
              "    </tr>\n",
              "    <tr>\n",
              "      <th>4</th>\n",
              "      <td>Nah I don't think he goes to usf, he lives aro...</td>\n",
              "    </tr>\n",
              "  </tbody>\n",
              "</table>\n",
              "</div>"
            ],
            "text/plain": [
              "                                                  v2\n",
              "0  Go until jurong point, crazy.. Available only ...\n",
              "1                      Ok lar... Joking wif u oni...\n",
              "2  Free entry in 2 a wkly comp to win FA Cup fina...\n",
              "3  U dun say so early hor... U c already then say...\n",
              "4  Nah I don't think he goes to usf, he lives aro..."
            ]
          },
          "metadata": {
            "tags": []
          },
          "execution_count": 14
        }
      ]
    },
    {
      "cell_type": "code",
      "metadata": {
        "id": "t0633dr6lyWi"
      },
      "source": [
        "y.rename(columns={'v1': 'class'},inplace=True);\n",
        "\n",
        "\n"
      ],
      "execution_count": null,
      "outputs": []
    },
    {
      "cell_type": "code",
      "metadata": {
        "id": "mXvcjuFO3ayc"
      },
      "source": [
        "X.rename(columns={'v2': 'text'},inplace=True);"
      ],
      "execution_count": null,
      "outputs": []
    },
    {
      "cell_type": "code",
      "metadata": {
        "colab": {
          "base_uri": "https://localhost:8080/",
          "height": 204
        },
        "id": "zfyju6Mtyag7",
        "outputId": "54f07c30-8f36-4781-dbd7-fe9bc893c83e"
      },
      "source": [
        "y.head()"
      ],
      "execution_count": null,
      "outputs": [
        {
          "output_type": "execute_result",
          "data": {
            "text/html": [
              "<div>\n",
              "<style scoped>\n",
              "    .dataframe tbody tr th:only-of-type {\n",
              "        vertical-align: middle;\n",
              "    }\n",
              "\n",
              "    .dataframe tbody tr th {\n",
              "        vertical-align: top;\n",
              "    }\n",
              "\n",
              "    .dataframe thead th {\n",
              "        text-align: right;\n",
              "    }\n",
              "</style>\n",
              "<table border=\"1\" class=\"dataframe\">\n",
              "  <thead>\n",
              "    <tr style=\"text-align: right;\">\n",
              "      <th></th>\n",
              "      <th>class</th>\n",
              "    </tr>\n",
              "  </thead>\n",
              "  <tbody>\n",
              "    <tr>\n",
              "      <th>0</th>\n",
              "      <td>ham</td>\n",
              "    </tr>\n",
              "    <tr>\n",
              "      <th>1</th>\n",
              "      <td>ham</td>\n",
              "    </tr>\n",
              "    <tr>\n",
              "      <th>2</th>\n",
              "      <td>spam</td>\n",
              "    </tr>\n",
              "    <tr>\n",
              "      <th>3</th>\n",
              "      <td>ham</td>\n",
              "    </tr>\n",
              "    <tr>\n",
              "      <th>4</th>\n",
              "      <td>ham</td>\n",
              "    </tr>\n",
              "  </tbody>\n",
              "</table>\n",
              "</div>"
            ],
            "text/plain": [
              "  class\n",
              "0   ham\n",
              "1   ham\n",
              "2  spam\n",
              "3   ham\n",
              "4   ham"
            ]
          },
          "metadata": {
            "tags": []
          },
          "execution_count": 17
        }
      ]
    },
    {
      "cell_type": "code",
      "metadata": {
        "colab": {
          "base_uri": "https://localhost:8080/",
          "height": 204
        },
        "id": "UbXbqJHjHGbr",
        "outputId": "7b9eb21a-0c04-4054-afb3-0e18c8d6869e"
      },
      "source": [
        "X.head()"
      ],
      "execution_count": null,
      "outputs": [
        {
          "output_type": "execute_result",
          "data": {
            "text/html": [
              "<div>\n",
              "<style scoped>\n",
              "    .dataframe tbody tr th:only-of-type {\n",
              "        vertical-align: middle;\n",
              "    }\n",
              "\n",
              "    .dataframe tbody tr th {\n",
              "        vertical-align: top;\n",
              "    }\n",
              "\n",
              "    .dataframe thead th {\n",
              "        text-align: right;\n",
              "    }\n",
              "</style>\n",
              "<table border=\"1\" class=\"dataframe\">\n",
              "  <thead>\n",
              "    <tr style=\"text-align: right;\">\n",
              "      <th></th>\n",
              "      <th>text</th>\n",
              "    </tr>\n",
              "  </thead>\n",
              "  <tbody>\n",
              "    <tr>\n",
              "      <th>0</th>\n",
              "      <td>Go until jurong point, crazy.. Available only ...</td>\n",
              "    </tr>\n",
              "    <tr>\n",
              "      <th>1</th>\n",
              "      <td>Ok lar... Joking wif u oni...</td>\n",
              "    </tr>\n",
              "    <tr>\n",
              "      <th>2</th>\n",
              "      <td>Free entry in 2 a wkly comp to win FA Cup fina...</td>\n",
              "    </tr>\n",
              "    <tr>\n",
              "      <th>3</th>\n",
              "      <td>U dun say so early hor... U c already then say...</td>\n",
              "    </tr>\n",
              "    <tr>\n",
              "      <th>4</th>\n",
              "      <td>Nah I don't think he goes to usf, he lives aro...</td>\n",
              "    </tr>\n",
              "  </tbody>\n",
              "</table>\n",
              "</div>"
            ],
            "text/plain": [
              "                                                text\n",
              "0  Go until jurong point, crazy.. Available only ...\n",
              "1                      Ok lar... Joking wif u oni...\n",
              "2  Free entry in 2 a wkly comp to win FA Cup fina...\n",
              "3  U dun say so early hor... U c already then say...\n",
              "4  Nah I don't think he goes to usf, he lives aro..."
            ]
          },
          "metadata": {
            "tags": []
          },
          "execution_count": 18
        }
      ]
    },
    {
      "cell_type": "code",
      "metadata": {
        "colab": {
          "base_uri": "https://localhost:8080/"
        },
        "id": "qTUZgUIHF1vt",
        "outputId": "9a2fd294-0c88-4dd1-cc2e-166525b45151"
      },
      "source": [
        "y.value_counts()"
      ],
      "execution_count": null,
      "outputs": [
        {
          "output_type": "execute_result",
          "data": {
            "text/plain": [
              "class\n",
              "ham      4825\n",
              "spam      747\n",
              "dtype: int64"
            ]
          },
          "metadata": {
            "tags": []
          },
          "execution_count": 19
        }
      ]
    },
    {
      "cell_type": "code",
      "metadata": {
        "id": "8AbfzBh4MSYA"
      },
      "source": [
        ""
      ],
      "execution_count": null,
      "outputs": []
    },
    {
      "cell_type": "markdown",
      "metadata": {
        "id": "KukdWwLG-B9Z"
      },
      "source": [
        "###Split Train - Test - Valdiation Set"
      ]
    },
    {
      "cell_type": "code",
      "metadata": {
        "id": "AGasCLWyMSAx"
      },
      "source": [
        ""
      ],
      "execution_count": null,
      "outputs": []
    },
    {
      "cell_type": "code",
      "metadata": {
        "id": "elvfos4R-GIO"
      },
      "source": [
        "X_train, X_test, y_train, y_test = train_test_split(X, y, test_size=0.2, random_state=15, stratify= y)"
      ],
      "execution_count": null,
      "outputs": []
    },
    {
      "cell_type": "code",
      "metadata": {
        "colab": {
          "base_uri": "https://localhost:8080/"
        },
        "id": "O-4Y4O4G-ufe",
        "outputId": "6a9fc683-1391-44e9-ca61-3d0116af4e78"
      },
      "source": [
        "X.shape\n"
      ],
      "execution_count": null,
      "outputs": [
        {
          "output_type": "execute_result",
          "data": {
            "text/plain": [
              "(5572, 1)"
            ]
          },
          "metadata": {
            "tags": []
          },
          "execution_count": 21
        }
      ]
    },
    {
      "cell_type": "code",
      "metadata": {
        "colab": {
          "base_uri": "https://localhost:8080/"
        },
        "id": "eMmXUZJf-7I8",
        "outputId": "e772a3b3-d71f-4fef-eae2-51989fe4b8e7"
      },
      "source": [
        "X_train.shape\n"
      ],
      "execution_count": null,
      "outputs": [
        {
          "output_type": "execute_result",
          "data": {
            "text/plain": [
              "(4457, 1)"
            ]
          },
          "metadata": {
            "tags": []
          },
          "execution_count": 22
        }
      ]
    },
    {
      "cell_type": "code",
      "metadata": {
        "colab": {
          "base_uri": "https://localhost:8080/"
        },
        "id": "W-PQ4_9ktevH",
        "outputId": "7cd0b128-a1cc-4e83-bd9d-089a92d72f95"
      },
      "source": [
        "y_train.shape"
      ],
      "execution_count": null,
      "outputs": [
        {
          "output_type": "execute_result",
          "data": {
            "text/plain": [
              "(4457, 1)"
            ]
          },
          "metadata": {
            "tags": []
          },
          "execution_count": 23
        }
      ]
    },
    {
      "cell_type": "code",
      "metadata": {
        "colab": {
          "base_uri": "https://localhost:8080/"
        },
        "id": "Rzyx-K4MAt6z",
        "outputId": "1df5a335-21ab-4ed7-b892-cd0a66516c8c"
      },
      "source": [
        "X_test.shape"
      ],
      "execution_count": null,
      "outputs": [
        {
          "output_type": "execute_result",
          "data": {
            "text/plain": [
              "(1115, 1)"
            ]
          },
          "metadata": {
            "tags": []
          },
          "execution_count": 24
        }
      ]
    },
    {
      "cell_type": "code",
      "metadata": {
        "colab": {
          "base_uri": "https://localhost:8080/"
        },
        "id": "UYF8ozvBvk7P",
        "outputId": "33e71972-18d6-4cdc-e5ef-08f1e1c72014"
      },
      "source": [
        "y_test.shape"
      ],
      "execution_count": null,
      "outputs": [
        {
          "output_type": "execute_result",
          "data": {
            "text/plain": [
              "(1115, 1)"
            ]
          },
          "metadata": {
            "tags": []
          },
          "execution_count": 25
        }
      ]
    },
    {
      "cell_type": "markdown",
      "metadata": {
        "id": "VrJBIfejNBNA"
      },
      "source": [
        ""
      ]
    },
    {
      "cell_type": "markdown",
      "metadata": {
        "id": "E2-zVYvKNC69"
      },
      "source": [
        "###Label Encode of the Categories"
      ]
    },
    {
      "cell_type": "code",
      "metadata": {
        "id": "F_SkXG05NH7a"
      },
      "source": [
        "y_train['class'] = y_train['class'].astype('category')\n",
        "y_test['class'] = y_test['class'].astype('category')"
      ],
      "execution_count": null,
      "outputs": []
    },
    {
      "cell_type": "code",
      "metadata": {
        "id": "BDCVhi7Rv6xH"
      },
      "source": [
        "y_train['class'] = y_train['class'].str.replace('spam', '0')\n",
        "y_train['class'] = y_train['class'].str.replace('ham', '1')"
      ],
      "execution_count": null,
      "outputs": []
    },
    {
      "cell_type": "code",
      "metadata": {
        "id": "_li42FcRNyBR"
      },
      "source": [
        "y_test['class'] = y_test['class'].str.replace('spam', '0')\n",
        "y_test['class'] = y_test['class'].str.replace('ham', '1')"
      ],
      "execution_count": null,
      "outputs": []
    },
    {
      "cell_type": "markdown",
      "metadata": {
        "id": "LnFXq0auRXsL"
      },
      "source": [
        ""
      ]
    },
    {
      "cell_type": "markdown",
      "metadata": {
        "id": "01UHIa5pReWR"
      },
      "source": [
        "###Converting to Lowecase and Removing Punctuations"
      ]
    },
    {
      "cell_type": "code",
      "metadata": {
        "id": "s3b1a8LURnDg"
      },
      "source": [
        "\n",
        "#X_train['text'] = X_train['text'].str.lower().str.replace('[^\\w\\s]', '')"
      ],
      "execution_count": null,
      "outputs": []
    },
    {
      "cell_type": "code",
      "metadata": {
        "id": "-tubtMeiRWay"
      },
      "source": [
        "#X_test['text'] = X_test['text'].str.lower().str.replace('[^\\w\\s]', '')"
      ],
      "execution_count": null,
      "outputs": []
    },
    {
      "cell_type": "markdown",
      "metadata": {
        "id": "gOZYCRcQSsCS"
      },
      "source": [
        "###Feature Engineering (Stopwords, Lemmatization)"
      ]
    },
    {
      "cell_type": "code",
      "metadata": {
        "id": "pjsFR7ncSxOi"
      },
      "source": [
        "from tqdm import tqdm_notebook as tqdm\n",
        "from nltk import corpus\n",
        "from nltk.stem.porter import PorterStemmer\n",
        "from nltk.stem.snowball import SnowballStemmer\n",
        "from nltk.stem.wordnet import WordNetLemmatizer\n",
        "from nltk.tokenize import WhitespaceTokenizer"
      ],
      "execution_count": null,
      "outputs": []
    },
    {
      "cell_type": "code",
      "metadata": {
        "id": "MqyhaeqKTjJs"
      },
      "source": [
        "def Feature_Engineering(txt: str, stopwords: bool, lemmatization: bool):\n",
        "    global total_row, progress_bar\n",
        "    \n",
        "    # Tokenizing\n",
        "    tokenizer = WhitespaceTokenizer()\n",
        "    txt = tokenizer.tokenize(txt.strip())\n",
        "    \n",
        "    # Stopwards\n",
        "    if stopwords:\n",
        "        stopwords_lst = corpus.stopwords.words(\"english\")\n",
        "        txt = (word for word in txt if word not in stopwords_lst)\n",
        "        \n",
        "    # Lemmatization\n",
        "    if lemmatization:\n",
        "        lemmatizer = WordNetLemmatizer()\n",
        "        txt = (lemmatizer.lemmatize(word) for word in txt)\n",
        "    \n",
        "    # Making sentence\n",
        "    txt = ' '.join(txt)\n",
        "    \n",
        "    \n",
        "    return txt.strip()"
      ],
      "execution_count": null,
      "outputs": []
    },
    {
      "cell_type": "code",
      "metadata": {
        "id": "KTBMBswATqR-"
      },
      "source": [
        "\n",
        "def X_Train_Feature_Engineering():\n",
        "    global X_train\n",
        "    X_train['text'] = X_train['text'].apply(\n",
        "        lambda text: Feature_Engineering(\n",
        "            txt=text,\n",
        "            stopwords=True,\n",
        "            lemmatization=False\n",
        "        )\n",
        "    )"
      ],
      "execution_count": null,
      "outputs": []
    },
    {
      "cell_type": "code",
      "metadata": {
        "id": "-M3rxobbTvho"
      },
      "source": [
        "def X_Test_Feature_Engineering():\n",
        "    global X_test\n",
        "    X_test['text'] = X_test['text'].apply(\n",
        "        lambda text: Feature_Engineering(\n",
        "            txt = text,\n",
        "            stopwords=True,\n",
        "            lemmatization=False\n",
        "        )\n",
        "    )"
      ],
      "execution_count": null,
      "outputs": []
    },
    {
      "cell_type": "code",
      "metadata": {
        "id": "8zeg90nR6_CG"
      },
      "source": [
        "X_Train_Feature_Engineering()\n",
        "X_Test_Feature_Engineering()"
      ],
      "execution_count": null,
      "outputs": []
    },
    {
      "cell_type": "markdown",
      "metadata": {
        "id": "k8OzOgLrURwJ"
      },
      "source": [
        "###Extra usefull columns creating"
      ]
    },
    {
      "cell_type": "markdown",
      "metadata": {
        "id": "lGOWjxBUVWft"
      },
      "source": [
        "###Keeping copy of the processed dataset"
      ]
    },
    {
      "cell_type": "code",
      "metadata": {
        "id": "654iGUOKVZBK"
      },
      "source": [
        "X_train_ORIG, y_train_ORIG = X_train.copy(), y_train.copy()\n",
        "X_test_ORIG, y_test_ORIG = X_test.copy(), y_test.copy()"
      ],
      "execution_count": null,
      "outputs": []
    },
    {
      "cell_type": "code",
      "metadata": {
        "id": "fZaiM6pnVdNR"
      },
      "source": [
        "df_train = pd.concat(\n",
        "    [\n",
        "        X_train_ORIG, \n",
        "        y_train_ORIG\n",
        "    ],\n",
        "    axis=1, \n",
        "    ignore_index=False\n",
        ")"
      ],
      "execution_count": null,
      "outputs": []
    },
    {
      "cell_type": "code",
      "metadata": {
        "id": "ffy_1B6WVg6s"
      },
      "source": [
        "df_test = pd.concat(\n",
        "    [\n",
        "        X_test_ORIG, \n",
        "        y_test_ORIG\n",
        "    ],\n",
        "    axis=1,\n",
        "    ignore_index=False\n",
        ")"
      ],
      "execution_count": null,
      "outputs": []
    },
    {
      "cell_type": "code",
      "metadata": {
        "id": "mkbCVxVjVk10"
      },
      "source": [
        "with pd.ExcelWriter('processed_data.xlsx') as writer: \n",
        "    df_train.to_excel(\n",
        "        excel_writer=writer, \n",
        "        sheet_name='Train', \n",
        "        header=True, \n",
        "        index=False\n",
        "    )\n",
        "    df_test.to_excel(\n",
        "        excel_writer=writer, \n",
        "        sheet_name='Test', \n",
        "        header=True, \n",
        "        index=False\n",
        "    )"
      ],
      "execution_count": null,
      "outputs": []
    },
    {
      "cell_type": "code",
      "metadata": {
        "id": "RKZ1fTS7VqQI"
      },
      "source": [
        ""
      ],
      "execution_count": null,
      "outputs": []
    },
    {
      "cell_type": "markdown",
      "metadata": {
        "id": "FDIH5E76Vx4G"
      },
      "source": [
        "###Plotting Count of Targets"
      ]
    },
    {
      "cell_type": "code",
      "metadata": {
        "id": "CXDUup-uV5Ep"
      },
      "source": [
        "# plt.figure(figsize=(6, 4))\n",
        "# sns.set(\n",
        "#     style='whitegrid',\n",
        "#     color_codes=True,\n",
        "# )\n",
        "# sns.countplot(\n",
        "#     x='text',\n",
        "#     data=df_train,\n",
        "#     hue='text'\n",
        "# );"
      ],
      "execution_count": null,
      "outputs": []
    },
    {
      "cell_type": "markdown",
      "metadata": {
        "id": "5K352rmpV_TU"
      },
      "source": [
        "###Vectorizing"
      ]
    },
    {
      "cell_type": "code",
      "metadata": {
        "id": "Ch7CAoljWBd6"
      },
      "source": [
        "from sklearn.feature_extraction.text import TfidfVectorizer"
      ],
      "execution_count": null,
      "outputs": []
    },
    {
      "cell_type": "code",
      "metadata": {
        "id": "E2_8T9TKWD9J"
      },
      "source": [
        "vectorizer = TfidfVectorizer(\n",
        "    stop_words='english',\n",
        "    max_features=10000,\n",
        "    ngram_range=(1, 3)\n",
        ")"
      ],
      "execution_count": null,
      "outputs": []
    },
    {
      "cell_type": "code",
      "metadata": {
        "colab": {
          "base_uri": "https://localhost:8080/"
        },
        "id": "mPGuSAIPWMgL",
        "outputId": "32dc9506-f4c8-467c-8f63-c4cc6fcada15"
      },
      "source": [
        "vectorizer.fit(X_train.text)"
      ],
      "execution_count": null,
      "outputs": [
        {
          "output_type": "execute_result",
          "data": {
            "text/plain": [
              "TfidfVectorizer(analyzer='word', binary=False, decode_error='strict',\n",
              "                dtype=<class 'numpy.float64'>, encoding='utf-8',\n",
              "                input='content', lowercase=True, max_df=1.0, max_features=10000,\n",
              "                min_df=1, ngram_range=(1, 3), norm='l2', preprocessor=None,\n",
              "                smooth_idf=True, stop_words='english', strip_accents=None,\n",
              "                sublinear_tf=False, token_pattern='(?u)\\\\b\\\\w\\\\w+\\\\b',\n",
              "                tokenizer=None, use_idf=True, vocabulary=None)"
            ]
          },
          "metadata": {
            "tags": []
          },
          "execution_count": 43
        }
      ]
    },
    {
      "cell_type": "code",
      "metadata": {
        "id": "WiNryrUZWNRT"
      },
      "source": [
        "X_train = vectorizer.transform(X_train.text)"
      ],
      "execution_count": null,
      "outputs": []
    },
    {
      "cell_type": "code",
      "metadata": {
        "id": "LwaPWDgf8kLB"
      },
      "source": [
        "# X_test = vectorizer.transform(X_test.text)"
      ],
      "execution_count": null,
      "outputs": []
    },
    {
      "cell_type": "code",
      "metadata": {
        "colab": {
          "base_uri": "https://localhost:8080/"
        },
        "id": "Ojugb9Nq8wYp",
        "outputId": "27e0dd8d-5354-4d78-ec02-d0114b987b36"
      },
      "source": [
        "X_train.shape"
      ],
      "execution_count": null,
      "outputs": [
        {
          "output_type": "execute_result",
          "data": {
            "text/plain": [
              "(4457, 10000)"
            ]
          },
          "metadata": {
            "tags": []
          },
          "execution_count": 46
        }
      ]
    },
    {
      "cell_type": "code",
      "metadata": {
        "colab": {
          "base_uri": "https://localhost:8080/"
        },
        "id": "KAGtvkiFF8Tp",
        "outputId": "0b68a339-7e75-43fc-f298-c409aebbf9a1"
      },
      "source": [
        "type(X_train)"
      ],
      "execution_count": null,
      "outputs": [
        {
          "output_type": "execute_result",
          "data": {
            "text/plain": [
              "scipy.sparse.csr.csr_matrix"
            ]
          },
          "metadata": {
            "tags": []
          },
          "execution_count": 47
        }
      ]
    },
    {
      "cell_type": "code",
      "metadata": {
        "colab": {
          "base_uri": "https://localhost:8080/"
        },
        "id": "FRxVI1M3Gj5h",
        "outputId": "f5d0d26c-3355-40b4-d73e-842dfece1e1f"
      },
      "source": [
        "print(X_train)"
      ],
      "execution_count": null,
      "outputs": [
        {
          "output_type": "stream",
          "text": [
            "  (0, 9388)\t0.3068291413323403\n",
            "  (0, 7534)\t0.4314059499120256\n",
            "  (0, 7502)\t0.2267990711409743\n",
            "  (0, 7261)\t0.2670245247674841\n",
            "  (0, 6526)\t0.35137587972065953\n",
            "  (0, 5155)\t0.2724170343755342\n",
            "  (0, 4033)\t0.33551051990638836\n",
            "  (0, 1022)\t0.4314059499120256\n",
            "  (0, 1020)\t0.31725449856112653\n",
            "  (1, 9550)\t0.1597004929174256\n",
            "  (1, 9306)\t0.19394905479218547\n",
            "  (1, 9305)\t0.19394905479218547\n",
            "  (1, 9302)\t0.1597004929174256\n",
            "  (1, 9049)\t0.19394905479218547\n",
            "  (1, 9048)\t0.19394905479218547\n",
            "  (1, 9028)\t0.09055336961601938\n",
            "  (1, 8168)\t0.19394905479218547\n",
            "  (1, 8167)\t0.19394905479218547\n",
            "  (1, 8166)\t0.18722979667049638\n",
            "  (1, 7121)\t0.1741591075724096\n",
            "  (1, 7064)\t0.19394905479218547\n",
            "  (1, 7063)\t0.19394905479218547\n",
            "  (1, 7062)\t0.19394905479218547\n",
            "  (1, 6118)\t0.18201793516417383\n",
            "  (1, 3712)\t0.19394905479218547\n",
            "  :\t:\n",
            "  (4452, 3875)\t0.2912609973448165\n",
            "  (4452, 3775)\t0.34065208464257574\n",
            "  (4452, 3761)\t0.18572363405148087\n",
            "  (4452, 3548)\t0.3004151099487657\n",
            "  (4452, 2371)\t0.21775688824596004\n",
            "  (4455, 8735)\t0.5869744622523326\n",
            "  (4455, 7854)\t0.5445450038783335\n",
            "  (4455, 6305)\t0.5991091047670121\n",
            "  (4456, 9721)\t0.20855915420154678\n",
            "  (4456, 9388)\t0.21065792269816874\n",
            "  (4456, 8921)\t0.26120293028312364\n",
            "  (4456, 8806)\t0.2056258220623809\n",
            "  (4456, 7502)\t0.15571213669265666\n",
            "  (4456, 7001)\t0.2570017538047495\n",
            "  (4456, 6661)\t0.2267796779226143\n",
            "  (4456, 6660)\t0.21916175160952647\n",
            "  (4456, 5860)\t0.2659658313468668\n",
            "  (4456, 5845)\t0.17526990446978005\n",
            "  (4456, 5700)\t0.17111328611586055\n",
            "  (4456, 5160)\t0.271464197105625\n",
            "  (4456, 4876)\t0.2659658313468668\n",
            "  (4456, 2116)\t0.29618790722900196\n",
            "  (4456, 1983)\t0.40411193559847475\n",
            "  (4456, 1630)\t0.214057519960305\n",
            "  (4456, 383)\t0.19959507665942947\n"
          ],
          "name": "stdout"
        }
      ]
    },
    {
      "cell_type": "markdown",
      "metadata": {
        "id": "TrZrlfkU8zPa"
      },
      "source": [
        "###Keeping copy of vocabularies"
      ]
    },
    {
      "cell_type": "code",
      "metadata": {
        "id": "xzrcsOp283YF"
      },
      "source": [
        "vocabulary = pd.DataFrame(\n",
        "    tuple(vectorizer.vocabulary_.items()), \n",
        "    columns = ['word', 'id']\n",
        ")"
      ],
      "execution_count": null,
      "outputs": []
    },
    {
      "cell_type": "code",
      "metadata": {
        "id": "nC-aXV_W88BJ"
      },
      "source": [
        "vocabulary.to_excel(\"vocabulary_data.xlsx\", header=True, index=False)"
      ],
      "execution_count": null,
      "outputs": []
    },
    {
      "cell_type": "code",
      "metadata": {
        "id": "WqGE7f-NGjJf"
      },
      "source": [
        ""
      ],
      "execution_count": null,
      "outputs": []
    },
    {
      "cell_type": "markdown",
      "metadata": {
        "id": "C2IKn6n-9CrX"
      },
      "source": [
        "###Selecting Best Features"
      ]
    },
    {
      "cell_type": "code",
      "metadata": {
        "id": "lnygjyWl9Fd3"
      },
      "source": [
        "from sklearn import feature_selection"
      ],
      "execution_count": null,
      "outputs": []
    },
    {
      "cell_type": "code",
      "metadata": {
        "id": "82BN_z1b9J8X"
      },
      "source": [
        "def Select_Best_Features(y: pd.core.series.Series, p_value_limit: int, feature_selector: str):\n",
        "    global vectorizer\n",
        "\n",
        "    if feature_selector.lower() == 'chi2':\n",
        "        _, p = feature_selection.chi2(X_train, y)\n",
        "    elif feature_selector.lower() == 'anova':\n",
        "        _, p = feature_selection.f_classif(X_train, y)\n",
        "    \n",
        "    X_features = pd.DataFrame()\n",
        "    X_features = X_features.append(\n",
        "        pd.DataFrame(\n",
        "            {\n",
        "                'feature': vectorizer.get_feature_names(),\n",
        "                'score': 1 - p,\n",
        "            }\n",
        "        )\n",
        "    )\n",
        "    \n",
        "    return X_features[X_features['score'] > p_value_limit]"
      ],
      "execution_count": null,
      "outputs": []
    },
    {
      "cell_type": "code",
      "metadata": {
        "id": "LL6-KARv9Pi5"
      },
      "source": [
        "X_features = Select_Best_Features(\n",
        "    y=y_train['class'],\n",
        "    p_value_limit=0.95,\n",
        "    feature_selector='anova'\n",
        ")"
      ],
      "execution_count": null,
      "outputs": []
    },
    {
      "cell_type": "code",
      "metadata": {
        "id": "emPvouTU9XTK"
      },
      "source": [
        "X_features.to_excel(\"processed_vocabulary_data.xlsx\", header=True, index=False)"
      ],
      "execution_count": null,
      "outputs": []
    },
    {
      "cell_type": "code",
      "metadata": {
        "id": "5UU8mtDX9aR7"
      },
      "source": [
        ""
      ],
      "execution_count": null,
      "outputs": []
    },
    {
      "cell_type": "markdown",
      "metadata": {
        "id": "d_AtUJ699bAT"
      },
      "source": [
        "###Final Selected Features"
      ]
    },
    {
      "cell_type": "code",
      "metadata": {
        "id": "mpG_6X6r9iG-"
      },
      "source": [
        "vectorizer = TfidfVectorizer(\n",
        "    vocabulary=X_features[\"feature\"].unique().tolist()\n",
        ")"
      ],
      "execution_count": null,
      "outputs": []
    },
    {
      "cell_type": "code",
      "metadata": {
        "id": "tsJHtrEP9mrX",
        "colab": {
          "base_uri": "https://localhost:8080/"
        },
        "outputId": "b0504f06-36f6-4a50-a1ef-d6073be6a77c"
      },
      "source": [
        "vectorizer.fit(X_train_ORIG.text)"
      ],
      "execution_count": null,
      "outputs": [
        {
          "output_type": "execute_result",
          "data": {
            "text/plain": [
              "TfidfVectorizer(analyzer='word', binary=False, decode_error='strict',\n",
              "                dtype=<class 'numpy.float64'>, encoding='utf-8',\n",
              "                input='content', lowercase=True, max_df=1.0, max_features=None,\n",
              "                min_df=1, ngram_range=(1, 1), norm='l2', preprocessor=None,\n",
              "                smooth_idf=True, stop_words=None, strip_accents=None,\n",
              "                sublinear_tf=False, token_pattern='(?u)\\\\b\\\\w\\\\w+\\\\b',\n",
              "                tokenizer=None, use...\n",
              "                            '00 subs 16', '000', '000 bonus',\n",
              "                            '000 bonus caller', '000 cash', '000 cash 000',\n",
              "                            '000 cash await', '000 homeowners',\n",
              "                            '000 homeowners tenants', '000 pounds',\n",
              "                            '000 pounds txt', '000 prize', '000 prize claim',\n",
              "                            '000 prize jackpot', '000 xmas', '000 xmas prize',\n",
              "                            '01223585334', '01223585334 cum',\n",
              "                            '01223585334 cum wan', '02', '02 06', '02 06 03',\n",
              "                            '02073162414', '02073162414 costs',\n",
              "                            '02073162414 costs 20p', '03', ...])"
            ]
          },
          "metadata": {
            "tags": []
          },
          "execution_count": 56
        }
      ]
    },
    {
      "cell_type": "code",
      "metadata": {
        "id": "3PdvH7Uh9pkv"
      },
      "source": [
        "X_train = vectorizer.transform(X_train_ORIG.text)"
      ],
      "execution_count": null,
      "outputs": []
    },
    {
      "cell_type": "code",
      "metadata": {
        "id": "k4l-DoXg9szI"
      },
      "source": [
        "X_test = vectorizer.transform(X_test_ORIG.text)"
      ],
      "execution_count": null,
      "outputs": []
    },
    {
      "cell_type": "markdown",
      "metadata": {
        "id": "jgYWVOuY9zGv"
      },
      "source": [
        "####Keeping copy of vocabularies"
      ]
    },
    {
      "cell_type": "code",
      "metadata": {
        "id": "vcs7nf3J91OK"
      },
      "source": [
        "\n",
        "vocabulary = pd.DataFrame(\n",
        "    tuple(vectorizer.vocabulary_.items()), \n",
        "    columns = ['word', 'id']\n",
        ")"
      ],
      "execution_count": null,
      "outputs": []
    },
    {
      "cell_type": "code",
      "metadata": {
        "id": "PGqL99VX95lG"
      },
      "source": [
        "vocabulary.to_excel(\"vocabulary_data_2.xlsx\", header=True, index=False)"
      ],
      "execution_count": null,
      "outputs": []
    },
    {
      "cell_type": "code",
      "metadata": {
        "colab": {
          "base_uri": "https://localhost:8080/"
        },
        "id": "SprpPIrEPu6o",
        "outputId": "e1d2ba02-6448-408b-fef5-7a9cf44125ff"
      },
      "source": [
        "X_train.shape"
      ],
      "execution_count": null,
      "outputs": [
        {
          "output_type": "execute_result",
          "data": {
            "text/plain": [
              "(4457, 4319)"
            ]
          },
          "metadata": {
            "tags": []
          },
          "execution_count": 61
        }
      ]
    },
    {
      "cell_type": "markdown",
      "metadata": {
        "id": "6PLxNd_n-BpK"
      },
      "source": [
        "####Classifier"
      ]
    },
    {
      "cell_type": "code",
      "metadata": {
        "id": "galPmQhl-EKj"
      },
      "source": [
        "from xgboost import XGBClassifier\n",
        "from sklearn import metrics, naive_bayes, pipeline\n",
        "from sklearn.model_selection import train_test_split\n",
        "from sklearn.preprocessing import StandardScaler, MinMaxScaler\n",
        "from sklearn.feature_extraction.text import CountVectorizer, TfidfTransformer, TfidfVectorizer\n",
        "\n",
        "from sklearn import svm\n",
        "from sklearn.naive_bayes import MultinomialNB\n",
        "from sklearn.linear_model import LogisticRegression\n",
        "from sklearn.neighbors import KNeighborsClassifier\n",
        "\n",
        "from sklearn.ensemble import RandomForestClassifier\n",
        "from sklearn.datasets import make_classification\n",
        "\n",
        "from sklearn.datasets import load_iris\n",
        "from sklearn.tree import DecisionTreeClassifier\n",
        "\n"
      ],
      "execution_count": null,
      "outputs": []
    },
    {
      "cell_type": "markdown",
      "metadata": {
        "id": "2l017dKOAOLr"
      },
      "source": [
        "###XGBoost"
      ]
    },
    {
      "cell_type": "code",
      "metadata": {
        "id": "PalCZqLC-INq"
      },
      "source": [
        "\n",
        "classifier = XGBClassifier(\n",
        "    booster = 'gbtree',\n",
        "    max_depth=5,\n",
        "    n_estimators=5000,\n",
        "    learning_rate=0.01,\n",
        "    importance_type='gain',\n",
        "    random_state= 0,\n",
        "    n_jobs=8\n",
        ")"
      ],
      "execution_count": null,
      "outputs": []
    },
    {
      "cell_type": "code",
      "metadata": {
        "id": "wGEkMj4Z-NMY",
        "colab": {
          "base_uri": "https://localhost:8080/"
        },
        "outputId": "084ab265-de9c-4cf1-c6ed-15ef4239d402"
      },
      "source": [
        "classifier.fit(X_train, y_train_ORIG)"
      ],
      "execution_count": null,
      "outputs": [
        {
          "output_type": "execute_result",
          "data": {
            "text/plain": [
              "XGBClassifier(base_score=0.5, booster='gbtree', colsample_bylevel=1,\n",
              "              colsample_bynode=1, colsample_bytree=1, gamma=0,\n",
              "              learning_rate=0.01, max_delta_step=0, max_depth=5,\n",
              "              min_child_weight=1, missing=None, n_estimators=5000, n_jobs=8,\n",
              "              nthread=None, objective='binary:logistic', random_state=0,\n",
              "              reg_alpha=0, reg_lambda=1, scale_pos_weight=1, seed=None,\n",
              "              silent=None, subsample=1, verbosity=1)"
            ]
          },
          "metadata": {
            "tags": []
          },
          "execution_count": 64
        }
      ]
    },
    {
      "cell_type": "code",
      "metadata": {
        "id": "q8uPIgNp-QLN"
      },
      "source": [
        "prediction = classifier.predict(X_test)"
      ],
      "execution_count": null,
      "outputs": []
    },
    {
      "cell_type": "code",
      "metadata": {
        "id": "lJ7_hiZD-St7",
        "colab": {
          "base_uri": "https://localhost:8080/"
        },
        "outputId": "955da981-df0a-418a-f778-dee1b0be1de8"
      },
      "source": [
        "from sklearn.metrics import confusion_matrix\n",
        "\n",
        "cm = confusion_matrix(y_true=y_test_ORIG, y_pred=prediction)\n",
        "print(cm)"
      ],
      "execution_count": null,
      "outputs": [
        {
          "output_type": "stream",
          "text": [
            "[[126  23]\n",
            " [  2 964]]\n"
          ],
          "name": "stdout"
        }
      ]
    },
    {
      "cell_type": "code",
      "metadata": {
        "id": "EXYbk2UA-e_L",
        "colab": {
          "base_uri": "https://localhost:8080/"
        },
        "outputId": "8e9283c2-dce2-41c8-f3f7-d9c68d9d8cc0"
      },
      "source": [
        "from sklearn.metrics import accuracy_score, classification_report\n",
        "\n",
        "print(\"Accuracy: {}%\".format(round(accuracy_score(y_test_ORIG, prediction) * 100, 2)))"
      ],
      "execution_count": null,
      "outputs": [
        {
          "output_type": "stream",
          "text": [
            "Accuracy: 97.76%\n"
          ],
          "name": "stdout"
        }
      ]
    },
    {
      "cell_type": "code",
      "metadata": {
        "id": "C7yHuMNo-h5K",
        "colab": {
          "base_uri": "https://localhost:8080/"
        },
        "outputId": "343ae2a9-5dea-435f-f4a9-516c514583fd"
      },
      "source": [
        "\n",
        "print(\n",
        "    classification_report(\n",
        "        y_true=y_test_ORIG,\n",
        "        y_pred=prediction,\n",
        "        zero_division='warn',\n",
        "        digits=3\n",
        "    )\n",
        ")"
      ],
      "execution_count": null,
      "outputs": [
        {
          "output_type": "stream",
          "text": [
            "              precision    recall  f1-score   support\n",
            "\n",
            "           0      0.984     0.846     0.910       149\n",
            "           1      0.977     0.998     0.987       966\n",
            "\n",
            "    accuracy                          0.978      1115\n",
            "   macro avg      0.981     0.922     0.948      1115\n",
            "weighted avg      0.978     0.978     0.977      1115\n",
            "\n"
          ],
          "name": "stdout"
        }
      ]
    },
    {
      "cell_type": "markdown",
      "metadata": {
        "id": "NyTu47OhAZGJ"
      },
      "source": [
        "###Random forest"
      ]
    },
    {
      "cell_type": "code",
      "metadata": {
        "id": "4M5KBScUAcKA"
      },
      "source": [
        "classifier = RandomForestClassifier(\n",
        "    n_estimators=1000, criterion='gini'\n",
        ")"
      ],
      "execution_count": null,
      "outputs": []
    },
    {
      "cell_type": "code",
      "metadata": {
        "colab": {
          "base_uri": "https://localhost:8080/"
        },
        "id": "CAPI6qIjI1Rq",
        "outputId": "945b14a1-e746-4752-9bd6-c9aabea1f4d6"
      },
      "source": [
        "classifier.fit(X_train, y_train_ORIG)"
      ],
      "execution_count": null,
      "outputs": [
        {
          "output_type": "execute_result",
          "data": {
            "text/plain": [
              "RandomForestClassifier(bootstrap=True, ccp_alpha=0.0, class_weight=None,\n",
              "                       criterion='gini', max_depth=None, max_features='auto',\n",
              "                       max_leaf_nodes=None, max_samples=None,\n",
              "                       min_impurity_decrease=0.0, min_impurity_split=None,\n",
              "                       min_samples_leaf=1, min_samples_split=2,\n",
              "                       min_weight_fraction_leaf=0.0, n_estimators=1000,\n",
              "                       n_jobs=None, oob_score=False, random_state=None,\n",
              "                       verbose=0, warm_start=False)"
            ]
          },
          "metadata": {
            "tags": []
          },
          "execution_count": 70
        }
      ]
    },
    {
      "cell_type": "code",
      "metadata": {
        "id": "iiH_GeqKJoj8"
      },
      "source": [
        "prediction = classifier.predict(X_test)"
      ],
      "execution_count": null,
      "outputs": []
    },
    {
      "cell_type": "code",
      "metadata": {
        "colab": {
          "base_uri": "https://localhost:8080/"
        },
        "id": "egeC2NgHJqCa",
        "outputId": "2ad8274f-4e37-4844-f4d6-d6ff934b7da3"
      },
      "source": [
        "from sklearn.metrics import confusion_matrix\n",
        "\n",
        "cm = confusion_matrix(y_true=y_test_ORIG, y_pred=prediction)\n",
        "print(cm)"
      ],
      "execution_count": null,
      "outputs": [
        {
          "output_type": "stream",
          "text": [
            "[[125  24]\n",
            " [  0 966]]\n"
          ],
          "name": "stdout"
        }
      ]
    },
    {
      "cell_type": "code",
      "metadata": {
        "colab": {
          "base_uri": "https://localhost:8080/"
        },
        "id": "w-F-UJ7iJ228",
        "outputId": "a1b2c549-2e23-49ff-b3a6-f70bf81fbd10"
      },
      "source": [
        "from sklearn.metrics import accuracy_score, classification_report\n",
        "\n",
        "print(\"Accuracy: {}%\".format(round(accuracy_score(y_test_ORIG, prediction) * 100, 2)))"
      ],
      "execution_count": null,
      "outputs": [
        {
          "output_type": "stream",
          "text": [
            "Accuracy: 97.85%\n"
          ],
          "name": "stdout"
        }
      ]
    },
    {
      "cell_type": "code",
      "metadata": {
        "colab": {
          "base_uri": "https://localhost:8080/"
        },
        "id": "eEyvgjPPJ-Pk",
        "outputId": "cfafbde3-7240-473a-d94e-75d958fe58c8"
      },
      "source": [
        "print(\n",
        "    classification_report(\n",
        "        y_true=y_test_ORIG,\n",
        "        y_pred=prediction,\n",
        "        zero_division='warn',\n",
        "        digits=3\n",
        "    )\n",
        ")"
      ],
      "execution_count": null,
      "outputs": [
        {
          "output_type": "stream",
          "text": [
            "              precision    recall  f1-score   support\n",
            "\n",
            "           0      1.000     0.839     0.912       149\n",
            "           1      0.976     1.000     0.988       966\n",
            "\n",
            "    accuracy                          0.978      1115\n",
            "   macro avg      0.988     0.919     0.950      1115\n",
            "weighted avg      0.979     0.978     0.978      1115\n",
            "\n"
          ],
          "name": "stdout"
        }
      ]
    },
    {
      "cell_type": "markdown",
      "metadata": {
        "id": "7hIDtzxjOTuC"
      },
      "source": [
        "###Decision tree"
      ]
    },
    {
      "cell_type": "code",
      "metadata": {
        "id": "g-TFKWjMOsor"
      },
      "source": [
        "classifier= DecisionTreeClassifier(random_state=0, criterion='gini')"
      ],
      "execution_count": null,
      "outputs": []
    },
    {
      "cell_type": "code",
      "metadata": {
        "colab": {
          "base_uri": "https://localhost:8080/"
        },
        "id": "jYj-eiD0OSa1",
        "outputId": "78d54dfe-c3ef-49ce-a173-25745a8c9441"
      },
      "source": [
        "classifier.fit(X_train, y_train_ORIG)"
      ],
      "execution_count": null,
      "outputs": [
        {
          "output_type": "execute_result",
          "data": {
            "text/plain": [
              "DecisionTreeClassifier(ccp_alpha=0.0, class_weight=None, criterion='gini',\n",
              "                       max_depth=None, max_features=None, max_leaf_nodes=None,\n",
              "                       min_impurity_decrease=0.0, min_impurity_split=None,\n",
              "                       min_samples_leaf=1, min_samples_split=2,\n",
              "                       min_weight_fraction_leaf=0.0, presort='deprecated',\n",
              "                       random_state=0, splitter='best')"
            ]
          },
          "metadata": {
            "tags": []
          },
          "execution_count": 76
        }
      ]
    },
    {
      "cell_type": "code",
      "metadata": {
        "id": "N9uR2wfGM5Az"
      },
      "source": [
        "prediction = classifier.predict(X_test)"
      ],
      "execution_count": null,
      "outputs": []
    },
    {
      "cell_type": "code",
      "metadata": {
        "colab": {
          "base_uri": "https://localhost:8080/"
        },
        "id": "ZD0SS-IiQrsX",
        "outputId": "3975f296-f6e2-4980-c282-fda50059147b"
      },
      "source": [
        "from sklearn.metrics import confusion_matrix\n",
        "\n",
        "cm = confusion_matrix(y_true=y_test_ORIG, y_pred=prediction)\n",
        "print(cm)"
      ],
      "execution_count": null,
      "outputs": [
        {
          "output_type": "stream",
          "text": [
            "[[127  22]\n",
            " [  9 957]]\n"
          ],
          "name": "stdout"
        }
      ]
    },
    {
      "cell_type": "code",
      "metadata": {
        "colab": {
          "base_uri": "https://localhost:8080/"
        },
        "id": "3LNj82ekQxht",
        "outputId": "8cbabd5a-cd7a-4100-fed6-b8806c431f09"
      },
      "source": [
        "from sklearn.metrics import accuracy_score, classification_report\n",
        "\n",
        "print(\"Accuracy: {}%\".format(round(accuracy_score(y_test_ORIG, prediction) * 100, 2)))"
      ],
      "execution_count": null,
      "outputs": [
        {
          "output_type": "stream",
          "text": [
            "Accuracy: 97.22%\n"
          ],
          "name": "stdout"
        }
      ]
    },
    {
      "cell_type": "code",
      "metadata": {
        "colab": {
          "base_uri": "https://localhost:8080/"
        },
        "id": "Huq1efzWQ11A",
        "outputId": "f13ad22a-5964-4c85-d98e-ef6d8f1e44c6"
      },
      "source": [
        "print(\n",
        "    classification_report(\n",
        "        y_true=y_test_ORIG,\n",
        "        y_pred=prediction,\n",
        "        zero_division='warn',\n",
        "        digits=3\n",
        "    )\n",
        ")"
      ],
      "execution_count": null,
      "outputs": [
        {
          "output_type": "stream",
          "text": [
            "              precision    recall  f1-score   support\n",
            "\n",
            "           0      0.934     0.852     0.891       149\n",
            "           1      0.978     0.991     0.984       966\n",
            "\n",
            "    accuracy                          0.972      1115\n",
            "   macro avg      0.956     0.922     0.938      1115\n",
            "weighted avg      0.972     0.972     0.972      1115\n",
            "\n"
          ],
          "name": "stdout"
        }
      ]
    },
    {
      "cell_type": "markdown",
      "metadata": {
        "id": "-J74UbX2RLhe"
      },
      "source": [
        "###SVM"
      ]
    },
    {
      "cell_type": "code",
      "metadata": {
        "id": "DfXOX9ggRN57"
      },
      "source": [
        "from sklearn.svm import SVC"
      ],
      "execution_count": null,
      "outputs": []
    },
    {
      "cell_type": "code",
      "metadata": {
        "id": "i1qcIRNtm5W8"
      },
      "source": [
        "classifier= SVC()"
      ],
      "execution_count": null,
      "outputs": []
    },
    {
      "cell_type": "code",
      "metadata": {
        "colab": {
          "base_uri": "https://localhost:8080/"
        },
        "id": "F3FLyPCokQBs",
        "outputId": "e8917e5f-e3a3-4ed5-f8b6-cdcd854da753"
      },
      "source": [
        "classifier.fit(X_train, y_train_ORIG)"
      ],
      "execution_count": null,
      "outputs": [
        {
          "output_type": "execute_result",
          "data": {
            "text/plain": [
              "SVC(C=1.0, break_ties=False, cache_size=200, class_weight=None, coef0=0.0,\n",
              "    decision_function_shape='ovr', degree=3, gamma='scale', kernel='rbf',\n",
              "    max_iter=-1, probability=False, random_state=None, shrinking=True,\n",
              "    tol=0.001, verbose=False)"
            ]
          },
          "metadata": {
            "tags": []
          },
          "execution_count": 91
        }
      ]
    },
    {
      "cell_type": "code",
      "metadata": {
        "id": "3sVGpB6FlL8z"
      },
      "source": [
        "prediction = classifier.predict(X_test)"
      ],
      "execution_count": null,
      "outputs": []
    },
    {
      "cell_type": "code",
      "metadata": {
        "colab": {
          "base_uri": "https://localhost:8080/"
        },
        "id": "y-Ta8f1alY6W",
        "outputId": "baf3a36b-6ce7-429b-9a65-97ebd81ebf1d"
      },
      "source": [
        "from sklearn.metrics import confusion_matrix\n",
        "\n",
        "cm = confusion_matrix(y_true=y_test_ORIG, y_pred=prediction)\n",
        "print(cm)"
      ],
      "execution_count": null,
      "outputs": [
        {
          "output_type": "stream",
          "text": [
            "[[133  16]\n",
            " [  2 964]]\n"
          ],
          "name": "stdout"
        }
      ]
    },
    {
      "cell_type": "code",
      "metadata": {
        "colab": {
          "base_uri": "https://localhost:8080/"
        },
        "id": "ERFSE5LTljA-",
        "outputId": "2a4bcef2-e3ec-4c31-ee0f-3218c2498156"
      },
      "source": [
        "from sklearn.metrics import accuracy_score, classification_report\n",
        "\n",
        "print(\"Accuracy: {}%\".format(round(accuracy_score(y_test_ORIG, prediction) * 100, 2)))"
      ],
      "execution_count": null,
      "outputs": [
        {
          "output_type": "stream",
          "text": [
            "Accuracy: 98.39%\n"
          ],
          "name": "stdout"
        }
      ]
    },
    {
      "cell_type": "code",
      "metadata": {
        "colab": {
          "base_uri": "https://localhost:8080/"
        },
        "id": "FCHo3lq3lpi7",
        "outputId": "c238a87b-ec5e-49ba-a6de-fd5da438b492"
      },
      "source": [
        "print(\n",
        "    classification_report(\n",
        "        y_true=y_test_ORIG,\n",
        "        y_pred=prediction,\n",
        "        zero_division='warn',\n",
        "        digits=3\n",
        "    )\n",
        ")"
      ],
      "execution_count": null,
      "outputs": [
        {
          "output_type": "stream",
          "text": [
            "              precision    recall  f1-score   support\n",
            "\n",
            "           0      0.985     0.893     0.937       149\n",
            "           1      0.984     0.998     0.991       966\n",
            "\n",
            "    accuracy                          0.984      1115\n",
            "   macro avg      0.984     0.945     0.964      1115\n",
            "weighted avg      0.984     0.984     0.984      1115\n",
            "\n"
          ],
          "name": "stdout"
        }
      ]
    },
    {
      "cell_type": "code",
      "metadata": {
        "id": "ncwFnHBylwTY"
      },
      "source": [
        ""
      ],
      "execution_count": null,
      "outputs": []
    }
  ]
}